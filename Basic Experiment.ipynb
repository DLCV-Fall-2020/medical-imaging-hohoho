{
 "cells": [
  {
   "cell_type": "code",
   "execution_count": 1,
   "metadata": {},
   "outputs": [],
   "source": [
    "from utils.split import RandomSplitPt\n",
    "from utils.dataset import HemorrhageDataset\n",
    "from utils.model import HemoResNet50, HemoResNet18\n",
    "from utils.metric import hemorrhage_metrics\n",
    "from torch.utils.data import DataLoader\n",
    "import torch.nn.functional as F\n",
    "import torch\n",
    "import numpy as np\n",
    "import pandas as pd"
   ]
  },
  {
   "cell_type": "code",
   "execution_count": 2,
   "metadata": {},
   "outputs": [
    {
     "name": "stdout",
     "output_type": "stream",
     "text": [
      "[0.22552461 0.15764975 0.22293018 0.3169401  0.07695536]\n"
     ]
    }
   ],
   "source": [
    "# calculate weight\n",
    "train_df = pd.read_csv(\"./Blood_data/train.csv\")\n",
    "num_each_class = train_df[[\"ich\", \"ivh\", \"sah\", \"sdh\", \"edh\"]].sum().values\n",
    "total_num = num_each_class.sum()\n",
    "weight = num_each_class / total_num\n",
    "print(weight)"
   ]
  },
  {
   "cell_type": "code",
   "execution_count": 3,
   "metadata": {},
   "outputs": [],
   "source": [
    "random_split_pt = RandomSplitPt()\n",
    "train, val = random_split_pt.randomly_split()"
   ]
  },
  {
   "cell_type": "code",
   "execution_count": 4,
   "metadata": {},
   "outputs": [],
   "source": [
    "train_dataset = HemorrhageDataset(train, stack_img = True, mode=\"train\")\n",
    "train_loader = DataLoader(train_dataset, batch_size=64, shuffle=True, num_workers = 16, pin_memory=True)\n",
    "\n",
    "val_dataset = HemorrhageDataset(val, stack_img = True, mode=\"val\")\n",
    "val_loader = DataLoader(val_dataset, batch_size=64, shuffle=False, num_workers = 16, pin_memory=True)"
   ]
  },
  {
   "cell_type": "code",
   "execution_count": 5,
   "metadata": {
    "scrolled": true
   },
   "outputs": [
    {
     "data": {
      "text/plain": [
       "HemoResNet18(\n",
       "  (base_model): ResNet(\n",
       "    (conv1): Conv2d(3, 64, kernel_size=(7, 7), stride=(2, 2), padding=(3, 3), bias=False)\n",
       "    (bn1): BatchNorm2d(64, eps=1e-05, momentum=0.1, affine=True, track_running_stats=True)\n",
       "    (relu): ReLU(inplace=True)\n",
       "    (maxpool): MaxPool2d(kernel_size=3, stride=2, padding=1, dilation=1, ceil_mode=False)\n",
       "    (layer1): Sequential(\n",
       "      (0): BasicBlock(\n",
       "        (conv1): Conv2d(64, 64, kernel_size=(3, 3), stride=(1, 1), padding=(1, 1), bias=False)\n",
       "        (bn1): BatchNorm2d(64, eps=1e-05, momentum=0.1, affine=True, track_running_stats=True)\n",
       "        (relu): ReLU(inplace=True)\n",
       "        (conv2): Conv2d(64, 64, kernel_size=(3, 3), stride=(1, 1), padding=(1, 1), bias=False)\n",
       "        (bn2): BatchNorm2d(64, eps=1e-05, momentum=0.1, affine=True, track_running_stats=True)\n",
       "      )\n",
       "      (1): BasicBlock(\n",
       "        (conv1): Conv2d(64, 64, kernel_size=(3, 3), stride=(1, 1), padding=(1, 1), bias=False)\n",
       "        (bn1): BatchNorm2d(64, eps=1e-05, momentum=0.1, affine=True, track_running_stats=True)\n",
       "        (relu): ReLU(inplace=True)\n",
       "        (conv2): Conv2d(64, 64, kernel_size=(3, 3), stride=(1, 1), padding=(1, 1), bias=False)\n",
       "        (bn2): BatchNorm2d(64, eps=1e-05, momentum=0.1, affine=True, track_running_stats=True)\n",
       "      )\n",
       "    )\n",
       "    (layer2): Sequential(\n",
       "      (0): BasicBlock(\n",
       "        (conv1): Conv2d(64, 128, kernel_size=(3, 3), stride=(2, 2), padding=(1, 1), bias=False)\n",
       "        (bn1): BatchNorm2d(128, eps=1e-05, momentum=0.1, affine=True, track_running_stats=True)\n",
       "        (relu): ReLU(inplace=True)\n",
       "        (conv2): Conv2d(128, 128, kernel_size=(3, 3), stride=(1, 1), padding=(1, 1), bias=False)\n",
       "        (bn2): BatchNorm2d(128, eps=1e-05, momentum=0.1, affine=True, track_running_stats=True)\n",
       "        (downsample): Sequential(\n",
       "          (0): Conv2d(64, 128, kernel_size=(1, 1), stride=(2, 2), bias=False)\n",
       "          (1): BatchNorm2d(128, eps=1e-05, momentum=0.1, affine=True, track_running_stats=True)\n",
       "        )\n",
       "      )\n",
       "      (1): BasicBlock(\n",
       "        (conv1): Conv2d(128, 128, kernel_size=(3, 3), stride=(1, 1), padding=(1, 1), bias=False)\n",
       "        (bn1): BatchNorm2d(128, eps=1e-05, momentum=0.1, affine=True, track_running_stats=True)\n",
       "        (relu): ReLU(inplace=True)\n",
       "        (conv2): Conv2d(128, 128, kernel_size=(3, 3), stride=(1, 1), padding=(1, 1), bias=False)\n",
       "        (bn2): BatchNorm2d(128, eps=1e-05, momentum=0.1, affine=True, track_running_stats=True)\n",
       "      )\n",
       "    )\n",
       "    (layer3): Sequential(\n",
       "      (0): BasicBlock(\n",
       "        (conv1): Conv2d(128, 256, kernel_size=(3, 3), stride=(2, 2), padding=(1, 1), bias=False)\n",
       "        (bn1): BatchNorm2d(256, eps=1e-05, momentum=0.1, affine=True, track_running_stats=True)\n",
       "        (relu): ReLU(inplace=True)\n",
       "        (conv2): Conv2d(256, 256, kernel_size=(3, 3), stride=(1, 1), padding=(1, 1), bias=False)\n",
       "        (bn2): BatchNorm2d(256, eps=1e-05, momentum=0.1, affine=True, track_running_stats=True)\n",
       "        (downsample): Sequential(\n",
       "          (0): Conv2d(128, 256, kernel_size=(1, 1), stride=(2, 2), bias=False)\n",
       "          (1): BatchNorm2d(256, eps=1e-05, momentum=0.1, affine=True, track_running_stats=True)\n",
       "        )\n",
       "      )\n",
       "      (1): BasicBlock(\n",
       "        (conv1): Conv2d(256, 256, kernel_size=(3, 3), stride=(1, 1), padding=(1, 1), bias=False)\n",
       "        (bn1): BatchNorm2d(256, eps=1e-05, momentum=0.1, affine=True, track_running_stats=True)\n",
       "        (relu): ReLU(inplace=True)\n",
       "        (conv2): Conv2d(256, 256, kernel_size=(3, 3), stride=(1, 1), padding=(1, 1), bias=False)\n",
       "        (bn2): BatchNorm2d(256, eps=1e-05, momentum=0.1, affine=True, track_running_stats=True)\n",
       "      )\n",
       "    )\n",
       "    (layer4): Sequential(\n",
       "      (0): BasicBlock(\n",
       "        (conv1): Conv2d(256, 512, kernel_size=(3, 3), stride=(2, 2), padding=(1, 1), bias=False)\n",
       "        (bn1): BatchNorm2d(512, eps=1e-05, momentum=0.1, affine=True, track_running_stats=True)\n",
       "        (relu): ReLU(inplace=True)\n",
       "        (conv2): Conv2d(512, 512, kernel_size=(3, 3), stride=(1, 1), padding=(1, 1), bias=False)\n",
       "        (bn2): BatchNorm2d(512, eps=1e-05, momentum=0.1, affine=True, track_running_stats=True)\n",
       "        (downsample): Sequential(\n",
       "          (0): Conv2d(256, 512, kernel_size=(1, 1), stride=(2, 2), bias=False)\n",
       "          (1): BatchNorm2d(512, eps=1e-05, momentum=0.1, affine=True, track_running_stats=True)\n",
       "        )\n",
       "      )\n",
       "      (1): BasicBlock(\n",
       "        (conv1): Conv2d(512, 512, kernel_size=(3, 3), stride=(1, 1), padding=(1, 1), bias=False)\n",
       "        (bn1): BatchNorm2d(512, eps=1e-05, momentum=0.1, affine=True, track_running_stats=True)\n",
       "        (relu): ReLU(inplace=True)\n",
       "        (conv2): Conv2d(512, 512, kernel_size=(3, 3), stride=(1, 1), padding=(1, 1), bias=False)\n",
       "        (bn2): BatchNorm2d(512, eps=1e-05, momentum=0.1, affine=True, track_running_stats=True)\n",
       "      )\n",
       "    )\n",
       "    (avgpool): AdaptiveAvgPool2d(output_size=(1, 1))\n",
       "    (fc): Sequential(\n",
       "      (0): Dropout(p=0.2, inplace=False)\n",
       "      (1): Linear(in_features=512, out_features=5, bias=True)\n",
       "    )\n",
       "  )\n",
       ")"
      ]
     },
     "execution_count": 5,
     "metadata": {},
     "output_type": "execute_result"
    }
   ],
   "source": [
    "device = \"cuda\"\n",
    "num_class = 5\n",
    "max_epochs = 50\n",
    "pos_weight = torch.Tensor(weight).to(device)\n",
    "\n",
    "model = HemoResNet18(num_class)\n",
    "optimizer = torch.optim.Adam(model.parameters(), lr=0.001)\n",
    "model.to(device)"
   ]
  },
  {
   "cell_type": "code",
   "execution_count": null,
   "metadata": {},
   "outputs": [
    {
     "name": "stdout",
     "output_type": "stream",
     "text": [
      "[epoch   1] TRAIN acc 0.8981 f2 0.042709 loss 51.1904 || VAL acc 0.8981 f2 0.024192 loss 16.2777\n",
      "[epoch   2] TRAIN acc 0.9089 f2 0.160673 loss 42.4626 || VAL acc 0.9124 f2 0.219067 loss 15.9440\n",
      "Process 25 / 593    \r"
     ]
    }
   ],
   "source": [
    "best_val_f2 = 0\n",
    "\n",
    "for epoch in range(1, max_epochs + 1):\n",
    "    model.train()\n",
    "    train_pred = []\n",
    "    train_true = []\n",
    "    train_loss_accum = 0\n",
    "    for i, (data, label) in enumerate(train_loader, 1):\n",
    "        print(f\"Process {i} / {len(train_loader)}    \", end=\"\\r\")\n",
    "        data = data.to(device)\n",
    "        label = label.to(device).float()\n",
    "        \n",
    "        logits = model(data)\n",
    "        loss = F.binary_cross_entropy_with_logits(logits, label, pos_weight=pos_weight)\n",
    "        \n",
    "        optimizer.zero_grad()\n",
    "        loss.backward()\n",
    "        optimizer.step()\n",
    "        \n",
    "        train_loss_accum += loss.item()\n",
    "        train_pred.append(logits.cpu().detach().numpy())\n",
    "        train_true.append(label.cpu().numpy())\n",
    "    \n",
    "    model.eval()\n",
    "    val_pred = []\n",
    "    val_true = []\n",
    "    val_loss_accum = 0\n",
    "    with torch.no_grad():\n",
    "        for i, (data, label) in enumerate(val_loader, 1):\n",
    "            print(f\"Process {i} / {len(val_loader)}    \", end=\"\\r\")\n",
    "            data = data.to(device)\n",
    "            label = label.to(device).float()\n",
    "            \n",
    "            logits = model(data)\n",
    "            loss = F.binary_cross_entropy_with_logits(logits, label, pos_weight= pos_weight)\n",
    "            \n",
    "            val_loss_accum += loss.item()\n",
    "            val_pred.append(logits.cpu().detach().numpy())\n",
    "            val_true.append(label.cpu().numpy())\n",
    "    \n",
    "    train_pred = np.concatenate((train_pred))\n",
    "    train_true = np.concatenate((train_true))\n",
    "    val_pred = np.concatenate((val_pred))\n",
    "    val_true = np.concatenate((val_true))\n",
    "    \n",
    "    train_metric = hemorrhage_metrics(train_pred, train_true)\n",
    "    val_metric = hemorrhage_metrics(val_pred, val_true)\n",
    "    \n",
    "    if val_metric['f2'] > best_val_f2:\n",
    "        best_val_f2 = val_metric['f2']\n",
    "        print(F\"BEST AT epoch {epoch:3d} || VAL F2 = {val_metric['f2']:.4f}\")\n",
    "        torch.save(model.state_dict(), \"./model/resnet18_basic.pth\")\n",
    "\n",
    "    print(f\"[epoch {epoch:3d}] TRAIN acc {train_metric['acc']:.4f} f2 {train_metric['f2']:.4f} loss {train_loss_accum:.4f} || VAL acc {val_metric['acc']:.4f} f2 {val_metric['f2']:.4f} loss {val_loss_accum:.4f}\")"
   ]
  },
  {
   "cell_type": "code",
   "execution_count": null,
   "metadata": {},
   "outputs": [],
   "source": []
  }
 ],
 "metadata": {
  "kernelspec": {
   "display_name": "Python 3",
   "language": "python",
   "name": "python3"
  },
  "language_info": {
   "codemirror_mode": {
    "name": "ipython",
    "version": 3
   },
   "file_extension": ".py",
   "mimetype": "text/x-python",
   "name": "python",
   "nbconvert_exporter": "python",
   "pygments_lexer": "ipython3",
   "version": "3.7.3"
  }
 },
 "nbformat": 4,
 "nbformat_minor": 2
}
